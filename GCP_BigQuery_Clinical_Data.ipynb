{
  "nbformat": 4,
  "nbformat_minor": 0,
  "metadata": {
    "colab": {
      "name": "GCP_BigQuery_Clinical_Data.ipynb",
      "provenance": [],
      "collapsed_sections": [],
      "authorship_tag": "ABX9TyNnyKsmF7WDHrRGRPde9N8F",
      "include_colab_link": true
    },
    "kernelspec": {
      "name": "python3",
      "display_name": "Python 3"
    },
    "language_info": {
      "name": "python"
    }
  },
  "cells": [
    {
      "cell_type": "markdown",
      "metadata": {
        "id": "view-in-github",
        "colab_type": "text"
      },
      "source": [
        "<a href=\"https://colab.research.google.com/github/caresppen/KSCHOOL/blob/master/GCP_BigQuery_Clinical_Data.ipynb\" target=\"_parent\"><img src=\"https://colab.research.google.com/assets/colab-badge.svg\" alt=\"Open In Colab\"/></a>"
      ]
    },
    {
      "cell_type": "code",
      "metadata": {
        "colab": {
          "base_uri": "https://localhost:8080/"
        },
        "id": "O5464osxmT7T",
        "outputId": "dfdacbd7-d9f4-4182-f51f-9db97d49f4b2"
      },
      "source": [
        "from google.colab import auth\n",
        "auth.authenticate_user()\n",
        "print('Authenticated!')"
      ],
      "execution_count": 2,
      "outputs": [
        {
          "output_type": "stream",
          "text": [
            "Authenticated!\n"
          ],
          "name": "stdout"
        }
      ]
    },
    {
      "cell_type": "code",
      "metadata": {
        "id": "s9-23o4qmHzn"
      },
      "source": [
        "%%bigquery --project crucial-quarter-310117 df\n",
        "\n",
        "SELECT\n",
        "    class.code as encounter_class,\n",
        "    period.start as start_timestamp,\n",
        "    period.end as end_timestamp, \n",
        "    TIMESTAMP_DIFF(TIMESTAMP(period.end), TIMESTAMP(period.start), HOUR) \n",
        "        as length_of_stay_in_hours\n",
        "FROM \n",
        "    `hcls-testing-data.fhir_20k_patients_analytics.Encounter`\n",
        "WHERE\n",
        "    period.end >= period.start\n",
        "ORDER BY\n",
        "    4 DESC\n",
        "LIMIT 10"
      ],
      "execution_count": 3,
      "outputs": []
    },
    {
      "cell_type": "code",
      "metadata": {
        "colab": {
          "base_uri": "https://localhost:8080/",
          "height": 206
        },
        "id": "8DXfor-omLjl",
        "outputId": "3a77ee90-6eed-45f3-ce20-2817afc30907"
      },
      "source": [
        "df.head()"
      ],
      "execution_count": 4,
      "outputs": [
        {
          "output_type": "execute_result",
          "data": {
            "text/html": [
              "<div>\n",
              "<style scoped>\n",
              "    .dataframe tbody tr th:only-of-type {\n",
              "        vertical-align: middle;\n",
              "    }\n",
              "\n",
              "    .dataframe tbody tr th {\n",
              "        vertical-align: top;\n",
              "    }\n",
              "\n",
              "    .dataframe thead th {\n",
              "        text-align: right;\n",
              "    }\n",
              "</style>\n",
              "<table border=\"1\" class=\"dataframe\">\n",
              "  <thead>\n",
              "    <tr style=\"text-align: right;\">\n",
              "      <th></th>\n",
              "      <th>encounter_class</th>\n",
              "      <th>start_timestamp</th>\n",
              "      <th>end_timestamp</th>\n",
              "      <th>length_of_stay_in_hours</th>\n",
              "    </tr>\n",
              "  </thead>\n",
              "  <tbody>\n",
              "    <tr>\n",
              "      <th>0</th>\n",
              "      <td>EMER</td>\n",
              "      <td>1916-10-31T13:41:30+00:00</td>\n",
              "      <td>2010-06-22T13:41:30+00:00</td>\n",
              "      <td>820848</td>\n",
              "    </tr>\n",
              "    <tr>\n",
              "      <th>1</th>\n",
              "      <td>EMER</td>\n",
              "      <td>1913-12-12T12:46:28+00:00</td>\n",
              "      <td>1979-05-01T12:46:28+00:00</td>\n",
              "      <td>573144</td>\n",
              "    </tr>\n",
              "    <tr>\n",
              "      <th>2</th>\n",
              "      <td>EMER</td>\n",
              "      <td>1957-05-28T21:08:46+00:00</td>\n",
              "      <td>2012-02-07T21:08:46+00:00</td>\n",
              "      <td>479472</td>\n",
              "    </tr>\n",
              "    <tr>\n",
              "      <th>3</th>\n",
              "      <td>EMER</td>\n",
              "      <td>1966-01-07T20:54:48+00:00</td>\n",
              "      <td>2018-11-30T20:54:48+00:00</td>\n",
              "      <td>463680</td>\n",
              "    </tr>\n",
              "    <tr>\n",
              "      <th>4</th>\n",
              "      <td>EMER</td>\n",
              "      <td>1931-05-12T13:33:40+00:00</td>\n",
              "      <td>1981-05-22T13:33:40+00:00</td>\n",
              "      <td>438552</td>\n",
              "    </tr>\n",
              "  </tbody>\n",
              "</table>\n",
              "</div>"
            ],
            "text/plain": [
              "  encounter_class  ... length_of_stay_in_hours\n",
              "0            EMER  ...                  820848\n",
              "1            EMER  ...                  573144\n",
              "2            EMER  ...                  479472\n",
              "3            EMER  ...                  463680\n",
              "4            EMER  ...                  438552\n",
              "\n",
              "[5 rows x 4 columns]"
            ]
          },
          "metadata": {
            "tags": []
          },
          "execution_count": 4
        }
      ]
    },
    {
      "cell_type": "code",
      "metadata": {
        "id": "-ZLYR_zpnAtn"
      },
      "source": [
        "%%bigquery --project crucial-quarter-310117 df2\n",
        "\n",
        "SELECT\n",
        "  cc.code loinc_code,\n",
        "  cc.display loinc_name,\n",
        "  approx_quantiles(round(o.value.quantity.value,1),4) as quantiles,\n",
        "  count(*) as num_obs\n",
        "FROM\n",
        "  `hcls-testing-data.fhir_20k_patients_analytics.Observation` o, o.code.coding cc\n",
        "WHERE\n",
        "  cc.system like '%loinc%' and lower(cc.display) like '%cholesterol%'\n",
        "GROUP BY 1,2\n",
        "ORDER BY 4 desc"
      ],
      "execution_count": 5,
      "outputs": []
    },
    {
      "cell_type": "code",
      "metadata": {
        "colab": {
          "base_uri": "https://localhost:8080/",
          "height": 143
        },
        "id": "fyoUBORTnbUO",
        "outputId": "cba656ea-d261-4e38-f409-5b1acb87f3d4"
      },
      "source": [
        "df2.head()"
      ],
      "execution_count": 6,
      "outputs": [
        {
          "output_type": "execute_result",
          "data": {
            "text/html": [
              "<div>\n",
              "<style scoped>\n",
              "    .dataframe tbody tr th:only-of-type {\n",
              "        vertical-align: middle;\n",
              "    }\n",
              "\n",
              "    .dataframe tbody tr th {\n",
              "        vertical-align: top;\n",
              "    }\n",
              "\n",
              "    .dataframe thead th {\n",
              "        text-align: right;\n",
              "    }\n",
              "</style>\n",
              "<table border=\"1\" class=\"dataframe\">\n",
              "  <thead>\n",
              "    <tr style=\"text-align: right;\">\n",
              "      <th></th>\n",
              "      <th>loinc_code</th>\n",
              "      <th>loinc_name</th>\n",
              "      <th>quantiles</th>\n",
              "      <th>num_obs</th>\n",
              "    </tr>\n",
              "  </thead>\n",
              "  <tbody>\n",
              "    <tr>\n",
              "      <th>0</th>\n",
              "      <td>2093-3</td>\n",
              "      <td>Total Cholesterol</td>\n",
              "      <td>[150.0, 172.7, 188.0, 206.1, 304.8]</td>\n",
              "      <td>100304</td>\n",
              "    </tr>\n",
              "    <tr>\n",
              "      <th>1</th>\n",
              "      <td>18262-6</td>\n",
              "      <td>Low Density Lipoprotein Cholesterol</td>\n",
              "      <td>[51.0, 83.3, 99.0, 128.3, 199.9]</td>\n",
              "      <td>100304</td>\n",
              "    </tr>\n",
              "    <tr>\n",
              "      <th>2</th>\n",
              "      <td>2085-9</td>\n",
              "      <td>High Density Lipoprotein Cholesterol</td>\n",
              "      <td>[0.1, 49.2, 63.2, 71.6, 80.0]</td>\n",
              "      <td>100304</td>\n",
              "    </tr>\n",
              "  </tbody>\n",
              "</table>\n",
              "</div>"
            ],
            "text/plain": [
              "  loinc_code  ... num_obs\n",
              "0     2093-3  ...  100304\n",
              "1    18262-6  ...  100304\n",
              "2     2085-9  ...  100304\n",
              "\n",
              "[3 rows x 4 columns]"
            ]
          },
          "metadata": {
            "tags": []
          },
          "execution_count": 6
        }
      ]
    },
    {
      "cell_type": "code",
      "metadata": {
        "id": "pPVZ-4L9nckO"
      },
      "source": [
        "%%bigquery --project crucial-quarter-310117 df3\n",
        "\n",
        "SELECT\n",
        "  encounter_class,\n",
        "  APPROX_QUANTILES(num_encounters, 4) num_encounters_quantiles\n",
        "FROM (\n",
        "  SELECT\n",
        "    class.code encounter_class,\n",
        "    subject.reference patient_id,\n",
        "    COUNT(DISTINCT id) AS num_encounters\n",
        "  FROM\n",
        "    `hcls-testing-data.fhir_20k_patients_analytics.Encounter`\n",
        "  GROUP BY\n",
        "    1,2\n",
        "  )\n",
        "GROUP BY 1\n",
        "ORDER BY 1"
      ],
      "execution_count": 7,
      "outputs": []
    },
    {
      "cell_type": "code",
      "metadata": {
        "colab": {
          "base_uri": "https://localhost:8080/",
          "height": 143
        },
        "id": "3AUPNfqaniMm",
        "outputId": "32e1996b-5171-43df-bd8b-eade063a2962"
      },
      "source": [
        "df3.head()"
      ],
      "execution_count": 8,
      "outputs": [
        {
          "output_type": "execute_result",
          "data": {
            "text/html": [
              "<div>\n",
              "<style scoped>\n",
              "    .dataframe tbody tr th:only-of-type {\n",
              "        vertical-align: middle;\n",
              "    }\n",
              "\n",
              "    .dataframe tbody tr th {\n",
              "        vertical-align: top;\n",
              "    }\n",
              "\n",
              "    .dataframe thead th {\n",
              "        text-align: right;\n",
              "    }\n",
              "</style>\n",
              "<table border=\"1\" class=\"dataframe\">\n",
              "  <thead>\n",
              "    <tr style=\"text-align: right;\">\n",
              "      <th></th>\n",
              "      <th>encounter_class</th>\n",
              "      <th>num_encounters_quantiles</th>\n",
              "    </tr>\n",
              "  </thead>\n",
              "  <tbody>\n",
              "    <tr>\n",
              "      <th>0</th>\n",
              "      <td>AMB</td>\n",
              "      <td>[736512, 736512, 736512, 736512, 736512]</td>\n",
              "    </tr>\n",
              "    <tr>\n",
              "      <th>1</th>\n",
              "      <td>EMER</td>\n",
              "      <td>[40824, 40824, 40824, 40824, 40824]</td>\n",
              "    </tr>\n",
              "    <tr>\n",
              "      <th>2</th>\n",
              "      <td>IMP</td>\n",
              "      <td>[26540, 26540, 26540, 26540, 26540]</td>\n",
              "    </tr>\n",
              "  </tbody>\n",
              "</table>\n",
              "</div>"
            ],
            "text/plain": [
              "  encounter_class                  num_encounters_quantiles\n",
              "0             AMB  [736512, 736512, 736512, 736512, 736512]\n",
              "1            EMER       [40824, 40824, 40824, 40824, 40824]\n",
              "2             IMP       [26540, 26540, 26540, 26540, 26540]"
            ]
          },
          "metadata": {
            "tags": []
          },
          "execution_count": 8
        }
      ]
    },
    {
      "cell_type": "code",
      "metadata": {
        "id": "cqHZNv_PnjL3"
      },
      "source": [
        "%%bigquery --project crucial-quarter-310117 df4\n",
        "\n",
        "SELECT\n",
        "  class.code encounter_class,\n",
        "  ROUND(AVG(TIMESTAMP_DIFF(TIMESTAMP(period.end), TIMESTAMP(period.start), MINUTE)),1) as avg_minutes\n",
        "FROM\n",
        "  `hcls-testing-data.fhir_20k_patients_analytics.Encounter`\n",
        "WHERE\n",
        "  period.end >= period.start\n",
        "GROUP BY\n",
        "  1\n",
        "ORDER BY\n",
        "  2 DESC"
      ],
      "execution_count": 9,
      "outputs": []
    },
    {
      "cell_type": "code",
      "metadata": {
        "colab": {
          "base_uri": "https://localhost:8080/",
          "height": 143
        },
        "id": "5t-epJJ_nvQA",
        "outputId": "a5bdf800-f4ed-4313-d490-99e72a1f5a5e"
      },
      "source": [
        "df4.head()"
      ],
      "execution_count": 10,
      "outputs": [
        {
          "output_type": "execute_result",
          "data": {
            "text/html": [
              "<div>\n",
              "<style scoped>\n",
              "    .dataframe tbody tr th:only-of-type {\n",
              "        vertical-align: middle;\n",
              "    }\n",
              "\n",
              "    .dataframe tbody tr th {\n",
              "        vertical-align: top;\n",
              "    }\n",
              "\n",
              "    .dataframe thead th {\n",
              "        text-align: right;\n",
              "    }\n",
              "</style>\n",
              "<table border=\"1\" class=\"dataframe\">\n",
              "  <thead>\n",
              "    <tr style=\"text-align: right;\">\n",
              "      <th></th>\n",
              "      <th>encounter_class</th>\n",
              "      <th>avg_minutes</th>\n",
              "    </tr>\n",
              "  </thead>\n",
              "  <tbody>\n",
              "    <tr>\n",
              "      <th>0</th>\n",
              "      <td>EMER</td>\n",
              "      <td>19754.7</td>\n",
              "    </tr>\n",
              "    <tr>\n",
              "      <th>1</th>\n",
              "      <td>IMP</td>\n",
              "      <td>2991.9</td>\n",
              "    </tr>\n",
              "    <tr>\n",
              "      <th>2</th>\n",
              "      <td>AMB</td>\n",
              "      <td>1529.0</td>\n",
              "    </tr>\n",
              "  </tbody>\n",
              "</table>\n",
              "</div>"
            ],
            "text/plain": [
              "  encounter_class  avg_minutes\n",
              "0            EMER      19754.7\n",
              "1             IMP       2991.9\n",
              "2             AMB       1529.0"
            ]
          },
          "metadata": {
            "tags": []
          },
          "execution_count": 10
        }
      ]
    },
    {
      "cell_type": "code",
      "metadata": {
        "id": "DrWYEcMonwRX"
      },
      "source": [
        "%%bigquery --project crucial-quarter-310117 df5\n",
        "\n",
        "SELECT\n",
        "  id AS encounter_id,\n",
        "  period.start AS encounter_start,\n",
        "  period.end AS encounter_end,\n",
        "  status AS encounter_status,\n",
        "  class.code AS encounter_type,\n",
        "  subject.patientId as patient_id,\n",
        "  participant[safe_OFFSET(0)].individual.practitionerId as parctitioner_id,\n",
        "  serviceProvider.organizationId as encounter_location_id,\n",
        "  type[safe_OFFSET(0)].text AS encounter_reason\n",
        "FROM\n",
        "  `hcls-testing-data.fhir_20k_patients_analytics.Encounter` AS Encounter\n",
        "WHERE\n",
        "  subject.patientId = \"900820eb-4166-4981-ae2d-b183a064ac18\"\n",
        "ORDER BY\n",
        "  encounter_end"
      ],
      "execution_count": 12,
      "outputs": []
    },
    {
      "cell_type": "code",
      "metadata": {
        "colab": {
          "base_uri": "https://localhost:8080/",
          "height": 293
        },
        "id": "jvjBLLN0n1gF",
        "outputId": "59cc0a66-3201-4df5-aff1-b1315dd777f4"
      },
      "source": [
        "df5.head()"
      ],
      "execution_count": 13,
      "outputs": [
        {
          "output_type": "execute_result",
          "data": {
            "text/html": [
              "<div>\n",
              "<style scoped>\n",
              "    .dataframe tbody tr th:only-of-type {\n",
              "        vertical-align: middle;\n",
              "    }\n",
              "\n",
              "    .dataframe tbody tr th {\n",
              "        vertical-align: top;\n",
              "    }\n",
              "\n",
              "    .dataframe thead th {\n",
              "        text-align: right;\n",
              "    }\n",
              "</style>\n",
              "<table border=\"1\" class=\"dataframe\">\n",
              "  <thead>\n",
              "    <tr style=\"text-align: right;\">\n",
              "      <th></th>\n",
              "      <th>encounter_id</th>\n",
              "      <th>encounter_start</th>\n",
              "      <th>encounter_end</th>\n",
              "      <th>encounter_status</th>\n",
              "      <th>encounter_type</th>\n",
              "      <th>patient_id</th>\n",
              "      <th>parctitioner_id</th>\n",
              "      <th>encounter_location_id</th>\n",
              "      <th>encounter_reason</th>\n",
              "    </tr>\n",
              "  </thead>\n",
              "  <tbody>\n",
              "    <tr>\n",
              "      <th>0</th>\n",
              "      <td>f3ac19de-76ff-442d-90dc-9a1cf0cb36d2</td>\n",
              "      <td>1909-04-04T21:58:24+00:00</td>\n",
              "      <td>1909-04-05T01:41:24+00:00</td>\n",
              "      <td>finished</td>\n",
              "      <td>EMER</td>\n",
              "      <td>900820eb-4166-4981-ae2d-b183a064ac18</td>\n",
              "      <td>18ab1a0d-54c7-438a-b904-fe3d24f5dba2</td>\n",
              "      <td>23834663-ed53-3da9-b330-d6e1ecb8428e</td>\n",
              "      <td>Emergency Room Admission</td>\n",
              "    </tr>\n",
              "    <tr>\n",
              "      <th>1</th>\n",
              "      <td>bcff40c0-ee4c-492c-bc19-8e24f9c2e3c9</td>\n",
              "      <td>1912-04-10T21:58:24+00:00</td>\n",
              "      <td>1912-04-24T21:58:24+00:00</td>\n",
              "      <td>finished</td>\n",
              "      <td>AMB</td>\n",
              "      <td>900820eb-4166-4981-ae2d-b183a064ac18</td>\n",
              "      <td>18ab1a0d-54c7-438a-b904-fe3d24f5dba2</td>\n",
              "      <td>23834663-ed53-3da9-b330-d6e1ecb8428e</td>\n",
              "      <td>Encounter for symptom</td>\n",
              "    </tr>\n",
              "    <tr>\n",
              "      <th>2</th>\n",
              "      <td>c172ef71-2f47-48ff-a3bc-d7973f89e1a1</td>\n",
              "      <td>1912-05-03T21:58:24+00:00</td>\n",
              "      <td>1912-05-03T22:13:24+00:00</td>\n",
              "      <td>finished</td>\n",
              "      <td>AMB</td>\n",
              "      <td>900820eb-4166-4981-ae2d-b183a064ac18</td>\n",
              "      <td>18ab1a0d-54c7-438a-b904-fe3d24f5dba2</td>\n",
              "      <td>23834663-ed53-3da9-b330-d6e1ecb8428e</td>\n",
              "      <td>Encounter for problem</td>\n",
              "    </tr>\n",
              "    <tr>\n",
              "      <th>3</th>\n",
              "      <td>c5eab90e-b978-45f7-95b3-08adcbc628ba</td>\n",
              "      <td>1941-04-06T21:58:24+00:00</td>\n",
              "      <td>1941-04-06T22:13:24+00:00</td>\n",
              "      <td>finished</td>\n",
              "      <td>AMB</td>\n",
              "      <td>900820eb-4166-4981-ae2d-b183a064ac18</td>\n",
              "      <td>18ab1a0d-54c7-438a-b904-fe3d24f5dba2</td>\n",
              "      <td>23834663-ed53-3da9-b330-d6e1ecb8428e</td>\n",
              "      <td>Encounter for problem</td>\n",
              "    </tr>\n",
              "    <tr>\n",
              "      <th>4</th>\n",
              "      <td>3dd20ad4-4db0-44a6-9107-1c73caf4ffba</td>\n",
              "      <td>1941-06-15T21:58:24+00:00</td>\n",
              "      <td>1941-06-15T22:58:24+00:00</td>\n",
              "      <td>finished</td>\n",
              "      <td>EMER</td>\n",
              "      <td>900820eb-4166-4981-ae2d-b183a064ac18</td>\n",
              "      <td>977d08c9-7b88-49d9-9484-964c8da27513</td>\n",
              "      <td>ecc51621-0af3-3b35-ac3e-8b1e34022e92</td>\n",
              "      <td>Emergency room admission (procedure)</td>\n",
              "    </tr>\n",
              "  </tbody>\n",
              "</table>\n",
              "</div>"
            ],
            "text/plain": [
              "                           encounter_id  ...                      encounter_reason\n",
              "0  f3ac19de-76ff-442d-90dc-9a1cf0cb36d2  ...              Emergency Room Admission\n",
              "1  bcff40c0-ee4c-492c-bc19-8e24f9c2e3c9  ...                 Encounter for symptom\n",
              "2  c172ef71-2f47-48ff-a3bc-d7973f89e1a1  ...                 Encounter for problem\n",
              "3  c5eab90e-b978-45f7-95b3-08adcbc628ba  ...                 Encounter for problem\n",
              "4  3dd20ad4-4db0-44a6-9107-1c73caf4ffba  ...  Emergency room admission (procedure)\n",
              "\n",
              "[5 rows x 9 columns]"
            ]
          },
          "metadata": {
            "tags": []
          },
          "execution_count": 13
        }
      ]
    },
    {
      "cell_type": "code",
      "metadata": {
        "id": "likfHO4Tn4Gu"
      },
      "source": [
        "%%bigquery --project crucial-quarter-310117 df6\n",
        "\n",
        "SELECT\n",
        "  id AS org_id,\n",
        "  type[safe_offset(0)].text AS org_type,\n",
        "  name AS org_name,\n",
        "  address[safe_offset(0)].line AS org_addr,\n",
        "  address[safe_offset(0)].city AS org_addr_city,\n",
        "  address[safe_offset(0)].state AS org_addr_state,\n",
        "  address[safe_offset(0)].postalCode AS org_addr_postalCode,\n",
        "  address[safe_offset(0)].country AS org_addr_country\n",
        "FROM \n",
        "  `hcls-testing-data.fhir_20k_patients_analytics.Organization` AS Organization\n",
        "WHERE \n",
        "  id = \"b81688f5-bd0e-3c99-963f-860d3e90ab5d\""
      ],
      "execution_count": 14,
      "outputs": []
    },
    {
      "cell_type": "code",
      "metadata": {
        "colab": {
          "base_uri": "https://localhost:8080/",
          "height": 81
        },
        "id": "Oa-3vz1Sn87u",
        "outputId": "1a2ed325-49e6-4c78-a104-b01d86628232"
      },
      "source": [
        "df6.head()"
      ],
      "execution_count": 15,
      "outputs": [
        {
          "output_type": "execute_result",
          "data": {
            "text/html": [
              "<div>\n",
              "<style scoped>\n",
              "    .dataframe tbody tr th:only-of-type {\n",
              "        vertical-align: middle;\n",
              "    }\n",
              "\n",
              "    .dataframe tbody tr th {\n",
              "        vertical-align: top;\n",
              "    }\n",
              "\n",
              "    .dataframe thead th {\n",
              "        text-align: right;\n",
              "    }\n",
              "</style>\n",
              "<table border=\"1\" class=\"dataframe\">\n",
              "  <thead>\n",
              "    <tr style=\"text-align: right;\">\n",
              "      <th></th>\n",
              "      <th>org_id</th>\n",
              "      <th>org_type</th>\n",
              "      <th>org_name</th>\n",
              "      <th>org_addr</th>\n",
              "      <th>org_addr_city</th>\n",
              "      <th>org_addr_state</th>\n",
              "      <th>org_addr_postalCode</th>\n",
              "      <th>org_addr_country</th>\n",
              "    </tr>\n",
              "  </thead>\n",
              "  <tbody>\n",
              "    <tr>\n",
              "      <th>0</th>\n",
              "      <td>b81688f5-bd0e-3c99-963f-860d3e90ab5d</td>\n",
              "      <td>Healthcare Provider</td>\n",
              "      <td>URGENT CARE MEDICAL CLINIC</td>\n",
              "      <td>[581 BOYLSTON STREET]</td>\n",
              "      <td>BOSTON</td>\n",
              "      <td>MA</td>\n",
              "      <td>2116</td>\n",
              "      <td>US</td>\n",
              "    </tr>\n",
              "  </tbody>\n",
              "</table>\n",
              "</div>"
            ],
            "text/plain": [
              "                                 org_id  ... org_addr_country\n",
              "0  b81688f5-bd0e-3c99-963f-860d3e90ab5d  ...               US\n",
              "\n",
              "[1 rows x 8 columns]"
            ]
          },
          "metadata": {
            "tags": []
          },
          "execution_count": 15
        }
      ]
    },
    {
      "cell_type": "code",
      "metadata": {
        "id": "xioCub6Cn9ul"
      },
      "source": [
        "%%bigquery --project crucial-quarter-310117 df7\n",
        "\n",
        "SELECT\n",
        "  id AS patient_id,\n",
        "  name[safe_offset(0)].given AS given_name,\n",
        "  name[safe_offset(0)].family AS family,\n",
        "  telecom[safe_offset(0)].value AS phone,\n",
        "  birthDate AS birth_date,\n",
        "  deceased.dateTime AS deceased_datetime,\n",
        "  Gender AS fhir_gender_code,\n",
        "  Address[safe_offset(0)].line AS address1_line_1,\n",
        "  Address[safe_offset(0)].city AS address1_city,\n",
        "  Address[safe_offset(0)].state AS address1_state,\n",
        "  Address[safe_offset(0)].postalCode AS address1_postalCode,\n",
        "  Address[safe_offset(0)].country AS address1_country\n",
        "FROM \n",
        "  `hcls-testing-data.fhir_20k_patients_analytics.Patient` AS Patient \n",
        "LIMIT 10"
      ],
      "execution_count": 16,
      "outputs": []
    },
    {
      "cell_type": "code",
      "metadata": {
        "colab": {
          "base_uri": "https://localhost:8080/",
          "height": 206
        },
        "id": "SL9aaQzLoCeQ",
        "outputId": "e8c15e48-0646-4b49-e499-0791b236882e"
      },
      "source": [
        "df7.head()"
      ],
      "execution_count": 17,
      "outputs": [
        {
          "output_type": "execute_result",
          "data": {
            "text/html": [
              "<div>\n",
              "<style scoped>\n",
              "    .dataframe tbody tr th:only-of-type {\n",
              "        vertical-align: middle;\n",
              "    }\n",
              "\n",
              "    .dataframe tbody tr th {\n",
              "        vertical-align: top;\n",
              "    }\n",
              "\n",
              "    .dataframe thead th {\n",
              "        text-align: right;\n",
              "    }\n",
              "</style>\n",
              "<table border=\"1\" class=\"dataframe\">\n",
              "  <thead>\n",
              "    <tr style=\"text-align: right;\">\n",
              "      <th></th>\n",
              "      <th>patient_id</th>\n",
              "      <th>given_name</th>\n",
              "      <th>family</th>\n",
              "      <th>phone</th>\n",
              "      <th>birth_date</th>\n",
              "      <th>deceased_datetime</th>\n",
              "      <th>fhir_gender_code</th>\n",
              "      <th>address1_line_1</th>\n",
              "      <th>address1_city</th>\n",
              "      <th>address1_state</th>\n",
              "      <th>address1_postalCode</th>\n",
              "      <th>address1_country</th>\n",
              "    </tr>\n",
              "  </thead>\n",
              "  <tbody>\n",
              "    <tr>\n",
              "      <th>0</th>\n",
              "      <td>66d26781-f80d-4f98-9f46-e64f4dbe8704</td>\n",
              "      <td>[Junior695]</td>\n",
              "      <td>Kuhn96</td>\n",
              "      <td>555-117-4940</td>\n",
              "      <td>1958-10-09</td>\n",
              "      <td>None</td>\n",
              "      <td>male</td>\n",
              "      <td>[675 Price Corner Unit 69]</td>\n",
              "      <td>Clarksburg</td>\n",
              "      <td>Massachusetts</td>\n",
              "      <td>None</td>\n",
              "      <td>US</td>\n",
              "    </tr>\n",
              "    <tr>\n",
              "      <th>1</th>\n",
              "      <td>9cf7fc60-3078-4d3f-9978-5a6234a57ed6</td>\n",
              "      <td>[Selene142]</td>\n",
              "      <td>Koelpin146</td>\n",
              "      <td>555-821-3805</td>\n",
              "      <td>1974-06-22</td>\n",
              "      <td>None</td>\n",
              "      <td>female</td>\n",
              "      <td>[194 Boehm Way]</td>\n",
              "      <td>Clarksburg</td>\n",
              "      <td>Massachusetts</td>\n",
              "      <td>None</td>\n",
              "      <td>US</td>\n",
              "    </tr>\n",
              "    <tr>\n",
              "      <th>2</th>\n",
              "      <td>002d54b4-c232-4577-b397-52d45d978145</td>\n",
              "      <td>[Sharen57]</td>\n",
              "      <td>Bogisich202</td>\n",
              "      <td>555-838-9098</td>\n",
              "      <td>1965-11-02</td>\n",
              "      <td>1966-05-17T14:51:30+00:00</td>\n",
              "      <td>female</td>\n",
              "      <td>[830 Sporer Alley]</td>\n",
              "      <td>Lowell</td>\n",
              "      <td>Massachusetts</td>\n",
              "      <td>01850</td>\n",
              "      <td>US</td>\n",
              "    </tr>\n",
              "    <tr>\n",
              "      <th>3</th>\n",
              "      <td>13b82c64-a770-49d0-b18a-4183cde1ef4e</td>\n",
              "      <td>[Ariel183]</td>\n",
              "      <td>Lindgren255</td>\n",
              "      <td>555-769-3394</td>\n",
              "      <td>2002-04-02</td>\n",
              "      <td>None</td>\n",
              "      <td>male</td>\n",
              "      <td>[683 Padberg Harbor]</td>\n",
              "      <td>Lowell</td>\n",
              "      <td>Massachusetts</td>\n",
              "      <td>01850</td>\n",
              "      <td>US</td>\n",
              "    </tr>\n",
              "    <tr>\n",
              "      <th>4</th>\n",
              "      <td>1413465f-eade-4a07-bdcc-be5959077392</td>\n",
              "      <td>[Melany872]</td>\n",
              "      <td>Eichmann909</td>\n",
              "      <td>555-113-2935</td>\n",
              "      <td>2002-12-30</td>\n",
              "      <td>None</td>\n",
              "      <td>female</td>\n",
              "      <td>[162 Dickens Quay]</td>\n",
              "      <td>Lowell</td>\n",
              "      <td>Massachusetts</td>\n",
              "      <td>01850</td>\n",
              "      <td>US</td>\n",
              "    </tr>\n",
              "  </tbody>\n",
              "</table>\n",
              "</div>"
            ],
            "text/plain": [
              "                             patient_id  ... address1_country\n",
              "0  66d26781-f80d-4f98-9f46-e64f4dbe8704  ...               US\n",
              "1  9cf7fc60-3078-4d3f-9978-5a6234a57ed6  ...               US\n",
              "2  002d54b4-c232-4577-b397-52d45d978145  ...               US\n",
              "3  13b82c64-a770-49d0-b18a-4183cde1ef4e  ...               US\n",
              "4  1413465f-eade-4a07-bdcc-be5959077392  ...               US\n",
              "\n",
              "[5 rows x 12 columns]"
            ]
          },
          "metadata": {
            "tags": []
          },
          "execution_count": 17
        }
      ]
    },
    {
      "cell_type": "code",
      "metadata": {
        "colab": {
          "base_uri": "https://localhost:8080/",
          "height": 298
        },
        "id": "CaUc--PjoDln",
        "outputId": "3cd80a1c-f1d6-4918-f56a-8e3504e353ca"
      },
      "source": [
        "df4.plot(kind='bar', x='encounter_class', y='avg_minutes');"
      ],
      "execution_count": 18,
      "outputs": [
        {
          "output_type": "display_data",
          "data": {
            "image/png": "[encoded data removed]",
            "text/plain": [
              "<Figure size 432x288 with 1 Axes>"
            ]
          },
          "metadata": {
            "tags": [],
            "needs_background": "light"
          }
        }
      ]
    }
  ]
}